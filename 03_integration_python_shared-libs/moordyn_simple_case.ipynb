{
 "cells": [
  {
   "cell_type": "markdown",
   "id": "19c75fdf-83b5-4501-abfa-b1d12b370778",
   "metadata": {},
   "source": [
    "# Integracija MoorDyn knjižnjice\n",
    "\n",
    "Demonstracija preproste uporabe **[MoorDyn](https://moordyn.readthedocs.io/en/latest/)** knjižnjice v Python okolju.\n",
    "\n",
    "Določitev privezne sile na harmonično oscilirajoči površinski masni točki."
   ]
  },
  {
   "cell_type": "code",
   "execution_count": null,
   "id": "dd142095-44d0-42ac-82ac-af76f78063b5",
   "metadata": {},
   "outputs": [],
   "source": []
  }
 ],
 "metadata": {
  "kernelspec": {
   "display_name": "Conda-MATH",
   "language": "python",
   "name": "computation"
  },
  "language_info": {
   "codemirror_mode": {
    "name": "ipython",
    "version": 3
   },
   "file_extension": ".py",
   "mimetype": "text/x-python",
   "name": "python",
   "nbconvert_exporter": "python",
   "pygments_lexer": "ipython3",
   "version": "3.9.7"
  }
 },
 "nbformat": 4,
 "nbformat_minor": 5
}
