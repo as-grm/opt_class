{
 "cells": [
  {
   "cell_type": "markdown",
   "id": "0d260a67-f525-41c1-8928-1c87ee6ed9a7",
   "metadata": {},
   "source": [
    "# Program za izdelavo naključnih časovnih vrst valovanja \n",
    "\n",
    "Tukaj pipravimo različne časovne vrste valovnih potez za kasnejšo ststistično obdelavo."
   ]
  },
  {
   "cell_type": "code",
   "execution_count": 1,
   "id": "3af622b6-ea87-4c7c-9e56-9fea2c27a477",
   "metadata": {},
   "outputs": [],
   "source": [
    "import math as mat\n",
    "import numpy as np\n",
    "import random as rnd\n",
    "import pandas as pd\n",
    "import openpyxl\n",
    "\n",
    "import matplotlib.pyplot as mplp\n",
    "# MatPlotLib set LaTeX font\n",
    "mplp.rcParams['text.usetex'] = True\n",
    "mplp.rcParams['text.latex.preamble'] = r'\\usepackage{siunitx}'"
   ]
  },
  {
   "cell_type": "code",
   "execution_count": 2,
   "id": "18e77e69-1bcd-4d38-a9e1-70d1b0f4db45",
   "metadata": {},
   "outputs": [],
   "source": [
    "# Global constants\n",
    "gGa = 9.81 # gravity acceleration [m/s^2]"
   ]
  },
  {
   "cell_type": "code",
   "execution_count": 3,
   "id": "5ce89f64-b2da-4310-b943-18a7154f09e5",
   "metadata": {},
   "outputs": [],
   "source": [
    "# Pierson - Moskowitz spectrum\n",
    "\n",
    "def PM(w, Hs):\n",
    "    g = 9.81\n",
    "    a = 0.0081\n",
    "    w0 = mat.sqrt(0.161 * gGa/Hs)\n",
    "    \n",
    "    S = a * g**2 * mat.pow(w,-5) * mat.exp(-1.25 * mat.pow(w/w0, -4))\n",
    "    \n",
    "    return S"
   ]
  },
  {
   "cell_type": "code",
   "execution_count": 4,
   "id": "b66e7c1e-3063-47bd-9839-d1c02a906c6e",
   "metadata": {},
   "outputs": [],
   "source": [
    "# Get minimal nad maximal spectra frequency range\n",
    "\n",
    "def get_min_max(Hs):\n",
    "    w = 1e-3\n",
    "    w_min = 0\n",
    "    w_max = 0\n",
    "    while w < 20:\n",
    "        s = PM(w,Hs)\n",
    "        w += 1e-3\n",
    "        if (w_min == 0) and (s > 1e-4):\n",
    "            w_min = w\n",
    "        elif (w_min > 0) and (w_max == 0) and (s < 1e-4):\n",
    "            w_max = w\n",
    "            break\n",
    "    \n",
    "    return [w_min, w_max]"
   ]
  },
  {
   "cell_type": "code",
   "execution_count": 5,
   "id": "f308d7e6-6661-4453-b96f-32a645927e65",
   "metadata": {},
   "outputs": [],
   "source": [
    "# Get spectra surface with Trapez integration\n",
    "\n",
    "def get_surface(w_min,w_max,Hs):\n",
    "    \n",
    "    N = 100000\n",
    "    dw = (w_max-w_min)/N\n",
    "    S = 0\n",
    "    for i in range(N):\n",
    "        wi = w_min + (i+0.5)*dw\n",
    "        S += PM(wi,Hs)*dw\n",
    "      \n",
    "    return S"
   ]
  },
  {
   "cell_type": "code",
   "execution_count": 6,
   "id": "c6c33b6c-26c6-4064-b622-dc9843763466",
   "metadata": {},
   "outputs": [],
   "source": [
    "# returns frequencies that are distant at equal surfaces\n",
    "\n",
    "def get_surf_equidistant_freq(S,w_min,w_max,Hs,N):\n",
    "    \n",
    "    Ns = 10000\n",
    "    si = S/N\n",
    "    dw = (w_max - w_min)/Ns\n",
    "    \n",
    "    ss = 0\n",
    "    w = []\n",
    "    for i in range(Ns):\n",
    "        wi = w_min + (i+0.5)*dw\n",
    "        ss += PM(wi,Hs)*dw\n",
    "        if ss > si:\n",
    "            w.append(wi)\n",
    "            ss = 0   \n",
    "            \n",
    "    return np.array(w)"
   ]
  },
  {
   "cell_type": "code",
   "execution_count": 7,
   "id": "8be69a5c-f97c-4321-a4c6-4dfb8d266456",
   "metadata": {},
   "outputs": [],
   "source": [
    "# return frequencies in interval [w_min,w_max]\n",
    "\n",
    "def get_regular_freq(S,w_min,w_max,Hs,N):\n",
    "    \n",
    "    w = get_surf_equidistant_freq(S,w_min,w_max,Hs,N+2)\n",
    "    nw = len(w)\n",
    "   \n",
    "    ww = []\n",
    "    for i in range(nw-1):\n",
    "        dw = w[i+1] - w[i]\n",
    "        wi = w[i] + 0.5*(dw)\n",
    "        ww.append([wi,dw])\n",
    "        \n",
    "    return np.array(ww)"
   ]
  },
  {
   "cell_type": "code",
   "execution_count": 8,
   "id": "aa0454d3-2d61-4dba-b9df-28810bd62b55",
   "metadata": {},
   "outputs": [],
   "source": [
    "# return frequncies excluding resonant frequencies wR\n",
    "\n",
    "def irregular_wave_amps(Hs, N, wR):\n",
    "    \n",
    "    [w_min, w_max] = get_min_max(Hs)\n",
    "    print('W_min={:.5f}, W_max={:.5f}'.format(w_min,w_max))\n",
    "    S = get_surface(w_min,w_max,Hs) # area of energy spectra\n",
    "    \n",
    "    # create regions of frequency to avoid resonant one\n",
    "    if wR == None:\n",
    "        wint = [w_min,w_max]\n",
    "    else:\n",
    "        wint = [w_min,wR,w_max]\n",
    "    \n",
    "    Np = mat.floor(N/len(wint)) + 1\n",
    "    \n",
    "    A = []\n",
    "    dw = 1e-2 \n",
    "    for i in range(len(wint)-1):\n",
    "        ww = get_regular_freq(S,wint[i]+dw,wint[i+1]-dw,Hs,Np)\n",
    "        for i in range(len(ww)):\n",
    "            wi = ww[i,0] + rnd.random()*ww[i,1]\n",
    "            si = PM(wi,Hs)\n",
    "            Ai = mat.sqrt(2 * si *ww[i,1])\n",
    "            A.append([wi,Ai])\n",
    "        \n",
    "    return np.array(A)"
   ]
  },
  {
   "cell_type": "code",
   "execution_count": 9,
   "id": "cb9d4047-c7f8-48ae-addb-a2abda561896",
   "metadata": {},
   "outputs": [],
   "source": [
    "# generate irregulat wave\n",
    "\n",
    "def generate_wave_motion(wW,aW,t,N):\n",
    "    \n",
    "    a = 0\n",
    "    for i in range(N):\n",
    "        # wave amplitude at x = 0\n",
    "        a += aW[i] * mat.cos(wW[i]*t)\n",
    "    \n",
    "    return a"
   ]
  },
  {
   "cell_type": "code",
   "execution_count": 10,
   "id": "85209a37-d5f4-4d0a-9a38-06c5666ab026",
   "metadata": {},
   "outputs": [],
   "source": [
    "def write_data_to_excel(data, filename):\n",
    "    \n",
    "    df = pd.DataFrame(data, columns=['time [s]', 'wave amplitude [m]'])\n",
    "    df.to_excel(filename, sheet_name='wave', index=False)\n",
    "    \n",
    "    print(df)"
   ]
  },
  {
   "cell_type": "code",
   "execution_count": 11,
   "id": "8cd211b2-eb7e-449c-90fc-0473a592569d",
   "metadata": {},
   "outputs": [],
   "source": [
    "def show_wave_spectra(Hs, Nf, wRes):\n",
    "\n",
    "    wA = irregular_wave_amps(Hs, Nf, wRes) # [freq,amp]\n",
    "    N = len(wA)\n",
    "    \n",
    "    wW = wA[:,0]  # vector of wave frequency\n",
    "    aW = wA[:,1]  # vector of wave amplitude\n",
    "    lW = 2*mat.pi*gGa/wW**2 # vector of wave length\n",
    "    #print('wW:\\n', wW, '\\naW:\\n', aW, '\\nlW:\\n', lW)\n",
    "\n",
    "    # PM spectral data\n",
    "    pms = np.zeros(N)\n",
    "    for i in range(N):\n",
    "        pms[i] = PM(wW[i],Hs)\n",
    "    \n",
    "    fig, axs = mplp.subplots(3)\n",
    "    fig.suptitle(r'Wave data - PM spectra($H_s={:.2f} \\si{{m}}$)'.format(Hs))\n",
    "    \n",
    "    axs[0].plot(wW,pms)\n",
    "    axs[0].set_xticklabels([])\n",
    "    axs[0].set_ylabel(r'$S(\\omega)$')\n",
    "    axs[0].grid(True)\n",
    "\n",
    "    axs[1].plot(wW,aW)\n",
    "    axs[1].set_xticklabels([])\n",
    "    axs[1].set_ylabel(r'$\\zeta$ [m]')\n",
    "    axs[1].grid(True)\n",
    "\n",
    "    axs[2].plot(wW,lW)\n",
    "    axs[2].set_xlabel(r'$\\omega$ [rd/s]')\n",
    "    axs[2].set_ylabel(r'$\\lambda$ [m]')\n",
    "    axs[2].grid(True)\n",
    "    \n",
    "    fig.savefig('wave_spectra.pdf')\n",
    "    \n",
    "    return [wW, aW, lW, N]"
   ]
  },
  {
   "cell_type": "code",
   "execution_count": 12,
   "id": "33c920ea-29b9-4b4a-976b-fae349ec9a7f",
   "metadata": {},
   "outputs": [
    {
     "name": "stdout",
     "output_type": "stream",
     "text": [
      "W_min=0.30400, W_max=6.00400\n"
     ]
    },
    {
     "data": {
      "image/png": "[encoded data removed]",
      "text/plain": [
       "<Figure size 432x288 with 3 Axes>"
      ]
     },
     "metadata": {
      "needs_background": "light"
     },
     "output_type": "display_data"
    }
   ],
   "source": [
    "Hs = 5.0 # Significant wave amplitude\n",
    "Nf = 500 # number of representative frequencies\n",
    "wRes = None # Resonant frequency to be isolated\n",
    "\n",
    "[wW, aW, lW, N] = show_wave_spectra(Hs, Nf, wRes)"
   ]
  },
  {
   "cell_type": "code",
   "execution_count": 13,
   "id": "8c4844b6-519a-49f5-a780-dd6bb4ea7434",
   "metadata": {},
   "outputs": [
    {
     "name": "stdout",
     "output_type": "stream",
     "text": [
      "           time [s]  wave amplitude [m]\n",
      "0          0.000000            0.754415\n",
      "1          0.500023            0.470306\n",
      "2          1.000046           -0.163819\n",
      "3          1.500069           -0.960992\n",
      "4          2.000093           -1.311664\n",
      "...             ...                 ...\n",
      "21595  10797.999907           -0.839637\n",
      "21596  10798.499931           -0.776760\n",
      "21597  10798.999954           -0.559566\n",
      "21598  10799.499977           -0.157009\n",
      "21599  10800.000000            0.053759\n",
      "\n",
      "[21600 rows x 2 columns]\n"
     ]
    }
   ],
   "source": [
    "data = []\n",
    "dt = 3 # duration in hours \n",
    "Ts = 1000\n",
    "Te = Ts + dt*3600\n",
    "NT = 2*(Te - Ts)\n",
    "\n",
    "tv = np.linspace(Ts,Te,NT)\n",
    "for t in tv:\n",
    "    a = generate_wave_motion(wW,aW,t,N)\n",
    "    data.append([t-Ts,a])\n",
    "\n",
    "data = np.array(data)\n",
    "write_data_to_excel(data, 'wave_time_data.xlsx')"
   ]
  },
  {
   "cell_type": "code",
   "execution_count": 14,
   "id": "8b40ba76-5ca2-4d5a-8baa-8d331cd45c2f",
   "metadata": {},
   "outputs": [
    {
     "data": {
      "image/png": "[encoded data removed]",
      "text/plain": [
       "<Figure size 432x288 with 1 Axes>"
      ]
     },
     "metadata": {
      "needs_background": "light"
     },
     "output_type": "display_data"
    }
   ],
   "source": [
    "fig, ax = mplp.subplots()\n",
    "fig.suptitle(r'Wave data - PM spectra($H_s={:.2f} \\si{{m}}$)'.format(Hs))\n",
    "\n",
    "ax.plot(data[:,0],data[:,1])\n",
    "ax.set_xlabel(r'Čas - $t$ [s]')\n",
    "ax.set_ylabel(r'Amplituda - $\\eta$ [m]')\n",
    "ax.grid(True)\n",
    "fig.savefig('wave_data.pdf')"
   ]
  },
  {
   "cell_type": "code",
   "execution_count": null,
   "id": "75c2fa79-69c0-4d06-9125-d9cab7ef2ad4",
   "metadata": {},
   "outputs": [],
   "source": []
  }
 ],
 "metadata": {
  "kernelspec": {
   "display_name": "Conda-MATH",
   "language": "python",
   "name": "computation"
  },
  "language_info": {
   "codemirror_mode": {
    "name": "ipython",
    "version": 3
   },
   "file_extension": ".py",
   "mimetype": "text/x-python",
   "name": "python",
   "nbconvert_exporter": "python",
   "pygments_lexer": "ipython3",
   "version": "3.9.7"
  }
 },
 "nbformat": 4,
 "nbformat_minor": 5
}
