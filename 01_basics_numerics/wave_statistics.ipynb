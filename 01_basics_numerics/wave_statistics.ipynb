{
 "cells": [
  {
   "cell_type": "markdown",
   "id": "8b062765-bde8-4633-9aba-e8e1ed2520ce",
   "metadata": {},
   "source": [
    "# Statistika valov\n",
    "\n",
    "Prikazali bomo osnovne statistične operacije na časovnih signalih meritve višine valov. Enake prijeme lahko nato uporabite za vse ostale tipe meritev.\n",
    "\n",
    "Poleg obdelave podatkov, bo prikazano tudi napredna uporaba izrisov rezultatov."
   ]
  },
  {
   "cell_type": "markdown",
   "id": "c0c00e3d-179f-4cf6-af69-5e7e43556c27",
   "metadata": {},
   "source": [
    "Glavni del algoritma je iskanje para točk, ki določa prehodno stanje naključnega vala. Pogoj za par je določen kot prehod čez linijo $z=0$ ali $\\eta=0$, kjer je točka $P_1$ nad in točka $P_2$ pod nivojem $\\eta=0$.\n",
    "\n",
    "Iskanje indeksa $k$, kjer se to zgodi je narejen v funkciji *find_next_zero_crossing(eta, i, mm)*, kjer je *eta* vektor podatkov meritev amplitude, *i* je indeks, od koder naj prične z iskanjem in *mm* velikost vektorja *eta*."
   ]
  },
  {
   "cell_type": "code",
   "execution_count": 1,
   "id": "e4758dc5-3e28-4b88-8360-7136eb2f5e64",
   "metadata": {},
   "outputs": [],
   "source": [
    "import math as mat\n",
    "import numpy as np\n",
    "import pandas as pd\n",
    "import matplotlib.pyplot as mpl # knjižnjica za plot\n",
    "\n",
    "# MatPlotLib set fonts\n",
    "mpl.rcParams['font.family'] = 'serif'\n",
    "mpl.rcParams['font.serif'] = ['DejaVu Serif']\n",
    "\n",
    "# MatPlotLib set LaTeX use\n",
    "mpl.rcParams['text.usetex'] = True\n",
    "mpl.rcParams['text.latex.preamble'] = r'\\usepackage{siunitx}'"
   ]
  },
  {
   "cell_type": "code",
   "execution_count": 2,
   "id": "69cd016e-3d12-4a43-b095-b43db4287b08",
   "metadata": {},
   "outputs": [],
   "source": [
    "# prebere podatke iz excel datoteke\n",
    "\n",
    "def read_excel_data(file_name):\n",
    "    \n",
    "    data = pd.read_excel(file_name)\n",
    "    head = list(data.columns)\n",
    "    \n",
    "    print('head: ', head)\n",
    "    \n",
    "    t = data[head[0]]\n",
    "    h = data[head[1]]\n",
    "    \n",
    "    return [t.size, np.array([t,h])]"
   ]
  },
  {
   "cell_type": "code",
   "execution_count": 3,
   "id": "3804b2c3-603e-4c8b-ae4e-3d17ce376d98",
   "metadata": {},
   "outputs": [],
   "source": [
    "# naredi povprečitev signala po zaporednih oknih, kjer je določimo korak n in širino m okna \n",
    "\n",
    "def get_averaged_signal(data, n, m, NN):\n",
    "    \n",
    "    T = data[0]\n",
    "    H = data[1]\n",
    "    data_avg_T = []\n",
    "    data_avg_H= []\n",
    "    \n",
    "    k = 0\n",
    "    while k < NN:\n",
    "        data_avg_T.append(np.mean(data[0,k:k+m]))\n",
    "        data_avg_H.append(np.mean(data[1,k:k+m]))\n",
    "        k += n\n",
    "        \n",
    "    return np.array([data_avg_T, data_avg_H])    "
   ]
  },
  {
   "cell_type": "code",
   "execution_count": 4,
   "id": "5ed0f439-4605-408f-88ef-706fa84ffc80",
   "metadata": {},
   "outputs": [],
   "source": [
    "#poišče naslednji valovni prehod navzdol čez ničlo \n",
    "\n",
    "def find_next_zero_crossing(eta, i, mm):\n",
    "    \n",
    "    if i+1 == mm:\n",
    "        return mm\n",
    "    \n",
    "    h1 = eta[i]\n",
    "    k = i + 1\n",
    "    h2 = eta[k]\n",
    "    # print('start({:d}): h1={:.3f}, h2={:.3f}'.format(i,h1,h2))\n",
    "    \n",
    "    # izvaja dokler ni sign(h1) > sign(h2)\n",
    "    while not (mat.copysign(1, h1) > mat.copysign(1, h2)) :\n",
    "        if k+1 == mm:\n",
    "            return mm\n",
    "        \n",
    "        h1 = eta[k]\n",
    "        k += 1\n",
    "        h2 = eta[k]\n",
    "        # print('  -> ({:d}): h1={:.3f}, h2={:.3f}'.format(k,h1,h2))\n",
    "        \n",
    "    return k"
   ]
  },
  {
   "cell_type": "code",
   "execution_count": 5,
   "id": "f0cf4ec0-bd5d-48fb-96c4-47a095afac80",
   "metadata": {},
   "outputs": [],
   "source": [
    "# poišči periodo in višino zero-crossing vala\n",
    "\n",
    "def get_period_height(data, i, mm):\n",
    "    \n",
    "    j = find_next_zero_crossing(data[1],i,mm)\n",
    "    if j+1 >= mm:\n",
    "        return [-1,0,0]\n",
    "    \n",
    "    # print('i={:d}, j={:d}'.format(i,j))\n",
    "    # print('ti=[{:.3f},{:.3f}], tj=[{:.3f},{:.3f}]'.format(data[0][i-1],data[0][i],data[0][j-1],data[0][j]))\n",
    "    # print('hi=[{:.3f},{:.3f}], hj=[{:.3f},{:.3f}]'.format(data[1][i-1],data[1][i],data[1][j-1],data[1][j]))\n",
    "    \n",
    "    H = np.max(data[1,i:j]) - np.min(data[1,i:j])\n",
    "    # določi čas zero-crossing z linearno interpolacijo\n",
    "    t1 = data[0,i-1] + data[1,i-1]/(data[1,i-1] - data[1,i])*(data[0,i] - data[0,i-1]) \n",
    "    t2 = data[0,j-1] + data[1,j-1]/(data[1,j-1] - data[1,j])*(data[0,j] - data[0,j-1])\n",
    "    T = t2 - t1\n",
    "    \n",
    "    # print('({:d}->{:d}): H={:.3f}, T={:.3f}; t1={:.3f}, t2={:.3f}'.format(i,j,H,T,t1,t2))\n",
    "    \n",
    "    return [j,T,H]"
   ]
  },
  {
   "cell_type": "code",
   "execution_count": 6,
   "id": "510f9749-ca5a-40e1-bde9-5d52a4b7aed3",
   "metadata": {},
   "outputs": [],
   "source": [
    "def get_wave_period_height(data):\n",
    "    \n",
    "    mm = data.shape[1]\n",
    "    print('wave datasize:', mm)\n",
    "    i = find_next_zero_crossing(data[1],0,mm)\n",
    "    \n",
    "    TH_data = []\n",
    "    \n",
    "    while i > 0:            \n",
    "        [i,T,H] = get_period_height(data,i,mm)\n",
    "        if i > 0:\n",
    "            TH_data.append([T,H])\n",
    "        \n",
    "    TH = np.array(TH_data)\n",
    "    return np.transpose(TH)"
   ]
  },
  {
   "cell_type": "code",
   "execution_count": 7,
   "id": "ad46940b-627f-411e-a07e-a54761485bd9",
   "metadata": {},
   "outputs": [],
   "source": [
    "def get_wave_statistics(TH):\n",
    "    \n",
    "    mm = TH.shape[1]\n",
    "    mmS = int(mm/3)\n",
    "    print('mm=', mm)\n",
    "    print('mms=',mmS)\n",
    "    \n",
    "    T = TH[0]\n",
    "    H = TH[1]\n",
    "    \n",
    "    # mean\n",
    "    T_mean = np.mean(T)\n",
    "    H_mean = np.mean(H)\n",
    "    \n",
    "    # significant\n",
    "    print(T)\n",
    "    print(np.sort(T))\n",
    "    T = np.sort(T)[mmS:mm]\n",
    "    T_s = np.mean(T)\n",
    "    \n",
    "    H = np.sort(H)[mmS:mm]\n",
    "    H_s = np.mean(H)\n",
    "    \n",
    "    return [[T_mean,H_mean],[T_s,H_s]]"
   ]
  },
  {
   "cell_type": "markdown",
   "id": "e69375d5-47c9-45a2-96fa-5cefe70bbef8",
   "metadata": {},
   "source": [
    "### Statistika podatkov\n",
    "\n",
    "Najprej moramo ponastaviti **sampling rate*** signal na željeno vrednost. Recimo, če je zahteva po 3s intervalu in imamo meritev v 0.5s intervalu, moramo narediti ustrezno preslikavoo podatkov. Spodaj je prikaz dveh *naivnih* načinov takšne preslikave:\n",
    "\n",
    "- izločitev vsakega 6-tega podatka\n",
    "- povprečitev 6-ih podatkov\n",
    "\n",
    "Statistična primerjava kaže razliko. Kaj je prav, oziroma kaj je bolj smiselno, presodite sami!"
   ]
  },
  {
   "cell_type": "code",
   "execution_count": 8,
   "id": "765d810e-0d08-4b49-9a82-aa1771b57f73",
   "metadata": {},
   "outputs": [
    {
     "name": "stdout",
     "output_type": "stream",
     "text": [
      "head:  ['time [s]', 'wave amplitude [m]']\n"
     ]
    }
   ],
   "source": [
    "# branje podatkov\n",
    "\n",
    "file_name = '../00_data_setup/wave_generator/wave_time_data.xlsx'\n",
    "[size, data] = read_excel_data(file_name)"
   ]
  },
  {
   "cell_type": "code",
   "execution_count": 9,
   "id": "36956e79-4767-4650-83bb-c32acb5d5bb1",
   "metadata": {},
   "outputs": [],
   "source": [
    "# povprečevanje iz 0.5s na 3s, z okensko funkcijo\n",
    "\n",
    "n = 3\n",
    "m = 6   # pazi: 6*0.5s = 3s\n",
    "data_avg = get_averaged_signal(data, n, m, size)"
   ]
  },
  {
   "cell_type": "code",
   "execution_count": 10,
   "id": "a44c6e85-7f5b-4dc2-bb10-6eebf54956ec",
   "metadata": {},
   "outputs": [],
   "source": [
    "# jemanje vsakega n-tega\n",
    "\n",
    "n = 6\n",
    "data_nth = data[:,::n]"
   ]
  },
  {
   "cell_type": "code",
   "execution_count": 11,
   "id": "aaa460d7-23a4-464f-b3c9-7abd61b450d9",
   "metadata": {},
   "outputs": [
    {
     "name": "stdout",
     "output_type": "stream",
     "text": [
      "wave datasize: 21600\n",
      "mm= 1322\n",
      "mms= 440\n",
      "[ 6.19322837  9.2286544  10.38169299 ...  6.91924242  5.97016329\n",
      " 10.24456094]\n",
      "[ 1.16112427  1.33572061  1.39117866 ... 15.03294305 15.32013686\n",
      " 15.4570663 ]\n",
      "\n",
      "       mean: T = 8.160 s, H = 2.960 m\n",
      "significant: T = 9.709 s, H = 3.771 m\n"
     ]
    }
   ],
   "source": [
    "# statistika surovih podatkov \n",
    "\n",
    "TH_data = get_wave_period_height(data)\n",
    "\n",
    "stat = get_wave_statistics(TH_data)\n",
    "\n",
    "print()\n",
    "print('       mean: T = {:.3f} s, H = {:.3f} m'.format(stat[0][0], stat[0][1]))\n",
    "print('significant: T = {:.3f} s, H = {:.3f} m'.format(stat[1][0], stat[1][1]))"
   ]
  },
  {
   "cell_type": "code",
   "execution_count": 12,
   "id": "22d80a79-0473-4388-a6be-3bc4a39e8ebb",
   "metadata": {},
   "outputs": [
    {
     "name": "stdout",
     "output_type": "stream",
     "text": [
      "wave datasize: 3600\n",
      "mm= 1110\n",
      "mms= 370\n",
      "[ 5.72195858  8.68107045 12.27636193 ... 11.89557866 18.46858419\n",
      " 10.83341355]\n",
      "[ 3.18697866  3.37485754  3.37664181 ... 16.97675675 18.46858419\n",
      " 19.91960939]\n",
      "\n",
      "       mean: T = 9.720 s, H = 2.602 m\n",
      "significant: T = 11.164 s, H = 3.260 m\n"
     ]
    }
   ],
   "source": [
    "# statistika izbranih podatkov \n",
    "\n",
    "TH_data = get_wave_period_height(data_nth)\n",
    "\n",
    "stat = get_wave_statistics(TH_data)\n",
    "\n",
    "print()\n",
    "print('       mean: T = {:.3f} s, H = {:.3f} m'.format(stat[0][0], stat[0][1]))\n",
    "print('significant: T = {:.3f} s, H = {:.3f} m'.format(stat[1][0], stat[1][1]))"
   ]
  },
  {
   "cell_type": "code",
   "execution_count": 13,
   "id": "652f7758-758c-46e2-a3dc-9c8b28f6eed1",
   "metadata": {},
   "outputs": [
    {
     "name": "stdout",
     "output_type": "stream",
     "text": [
      "wave datasize: 7200\n",
      "mm= 1140\n",
      "mms= 380\n",
      "[ 6.09352312  8.949469   10.55562079 ... 12.16549003 17.79782214\n",
      " 10.94636923]\n",
      "[ 2.16578227  2.27190845  2.47229343 ... 16.9759095  17.41623545\n",
      " 17.79782214]\n",
      "\n",
      "       mean: T = 9.463 s, H = 2.393 m\n",
      "significant: T = 10.891 s, H = 3.014 m\n"
     ]
    }
   ],
   "source": [
    "# statistika povprečenih podatkov\n",
    "\n",
    "TH_data = get_wave_period_height(data_avg)\n",
    "\n",
    "stat = get_wave_statistics(TH_data)\n",
    "\n",
    "print()\n",
    "print('       mean: T = {:.3f} s, H = {:.3f} m'.format(stat[0][0], stat[0][1]))\n",
    "print('significant: T = {:.3f} s, H = {:.3f} m'.format(stat[1][0], stat[1][1]))"
   ]
  },
  {
   "cell_type": "code",
   "execution_count": 14,
   "id": "15b83234-4920-4e63-aedb-60479accac73",
   "metadata": {},
   "outputs": [
    {
     "data": {
      "image/png": "[encoded data removed]",
      "text/plain": [
       "<Figure size 432x288 with 3 Axes>"
      ]
     },
     "metadata": {
      "needs_background": "light"
     },
     "output_type": "display_data"
    }
   ],
   "source": [
    "# Izris originalnih in filtriranih podatkov\n",
    "\n",
    "fig, ax = mpl.subplots(3)\n",
    "\n",
    "ax[0].plot(data[0],data[1])\n",
    "ax[0].set_xticklabels([])\n",
    "ax[0].set_ylabel('$H(t)$')\n",
    "ax[0].grid()\n",
    "\n",
    "ax[1].plot(data_nth[0],data_nth[1])\n",
    "ax[1].set_xticklabels([])\n",
    "ax[1].set_ylabel('$H(t)$')\n",
    "ax[1].grid()\n",
    "\n",
    "ax[2].plot(data_avg[0],data_avg[1])\n",
    "ax[2].set_xlabel('$t$')\n",
    "ax[2].set_ylabel('$H(t)$')\n",
    "ax[2].grid()"
   ]
  },
  {
   "cell_type": "code",
   "execution_count": 15,
   "id": "6e31724a-f182-4a31-b257-c09cef7b05aa",
   "metadata": {},
   "outputs": [
    {
     "name": "stdout",
     "output_type": "stream",
     "text": [
      "wave datasize: 21600\n",
      "mm= 1157\n",
      "mms= 385\n",
      "[ 6.16381512  8.95680041 10.49381365 ...  4.69715868 13.19487079\n",
      " 10.83953051]\n",
      "[ 1.36990466  2.24194753  2.24936048 ... 15.71795154 17.06905624\n",
      " 17.37598862]\n",
      "filter okno: n = 1, m = 6\n",
      "       mean: T = 9.324 s, H = 2.479 m\n",
      "significant: T = 10.744 s, H = 3.127 m\n",
      "\n",
      "wave datasize: 10800\n",
      "mm= 1149\n",
      "mms= 383\n",
      "[ 6.20412831  8.90390424 10.49778378 ... 12.10445394 17.86179484\n",
      " 10.89933367]\n",
      "[ 1.53385063  1.58547324  1.82284215 ... 17.19018603 17.69957908\n",
      " 17.86179484]\n",
      "filter okno: n = 2, m = 6\n",
      "       mean: T = 9.389 s, H = 2.451 m\n",
      "significant: T = 10.807 s, H = 3.089 m\n",
      "\n",
      "wave datasize: 7200\n",
      "mm= 1140\n",
      "mms= 380\n",
      "[ 6.09352312  8.949469   10.55562079 ... 12.16549003 17.79782214\n",
      " 10.94636923]\n",
      "[ 2.16578227  2.27190845  2.47229343 ... 16.9759095  17.41623545\n",
      " 17.79782214]\n",
      "filter okno: n = 3, m = 6\n",
      "       mean: T = 9.463 s, H = 2.393 m\n",
      "significant: T = 10.891 s, H = 3.014 m\n",
      "\n",
      "wave datasize: 5400\n",
      "mm= 1119\n",
      "mms= 373\n",
      "[ 6.08816214  9.03811157 10.49265964 ... 12.07676563 17.74654243\n",
      " 11.16461282]\n",
      "[ 2.41277455  2.4957139   2.64791029 ... 16.74572611 16.95911804\n",
      " 17.74654243]\n",
      "filter okno: n = 4, m = 6\n",
      "       mean: T = 9.641 s, H = 2.320 m\n",
      "significant: T = 11.059 s, H = 2.910 m\n",
      "\n",
      "wave datasize: 4320\n",
      "mm= 1101\n",
      "mms= 367\n",
      "[ 5.60486964  9.14824265 10.5753412  ... 12.04110335 17.9689749\n",
      " 11.07297418]\n",
      "[ 2.9034537   3.32774415  3.37377703 ... 16.51101458 16.56481904\n",
      " 17.9689749 ]\n",
      "filter okno: n = 5, m = 6\n",
      "       mean: T = 9.798 s, H = 2.244 m\n",
      "significant: T = 11.217 s, H = 2.815 m\n",
      "\n",
      "wave datasize: 3600\n",
      "mm= 1070\n",
      "mms= 356\n",
      "[ 6.10483914  8.40344171 10.47585588 ... 12.10099799 17.31083589\n",
      " 11.74868844]\n",
      "[ 3.62238586  3.69160162  3.84206141 ... 16.74796221 17.31083589\n",
      " 17.79129249]\n",
      "filter okno: n = 6, m = 6\n",
      "       mean: T = 10.082 s, H = 2.156 m\n",
      "significant: T = 11.481 s, H = 2.693 m\n",
      "\n"
     ]
    }
   ],
   "source": [
    "# Prikaz statistike filtriranih podatkov v odvisnosti od dolžine koraka n\n",
    "\n",
    "m = 6   # pazi: 6*0.5s = 3s\n",
    "nv = range(1,m+1)\n",
    "\n",
    "for n in nv:\n",
    "    data_avg = get_averaged_signal(data, n, m, size)\n",
    "    TH_data = get_wave_period_height(data_avg)\n",
    "    \n",
    "    stat = get_wave_statistics(TH_data)\n",
    "\n",
    "    print('filter okno: n = {:d}, m = {:d}'.format(n,m))\n",
    "    print('       mean: T = {:.3f} s, H = {:.3f} m'.format(stat[0][0], stat[0][1]))\n",
    "    print('significant: T = {:.3f} s, H = {:.3f} m'.format(stat[1][0], stat[1][1]))\n",
    "    print()"
   ]
  },
  {
   "cell_type": "code",
   "execution_count": null,
   "id": "ac8adced-bfa4-4e62-abdd-49811ba68dbf",
   "metadata": {},
   "outputs": [],
   "source": []
  }
 ],
 "metadata": {
  "kernelspec": {
   "display_name": "MarineLab",
   "language": "python",
   "name": "marinelab"
  },
  "language_info": {
   "codemirror_mode": {
    "name": "ipython",
    "version": 3
   },
   "file_extension": ".py",
   "mimetype": "text/x-python",
   "name": "python",
   "nbconvert_exporter": "python",
   "pygments_lexer": "ipython3",
   "version": "3.10.2"
  }
 },
 "nbformat": 4,
 "nbformat_minor": 5
}
